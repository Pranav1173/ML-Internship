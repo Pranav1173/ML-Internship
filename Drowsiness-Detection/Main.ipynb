{
 "cells": [
  {
   "cell_type": "markdown",
   "id": "d3ce9992-e30b-4949-8864-2ee6d206b909",
   "metadata": {},
   "source": [
    "# Downloading the dlib"
   ]
  },
  {
   "cell_type": "markdown",
   "id": "f0484aeb-9cf2-420d-9979-8404aec0fd28",
   "metadata": {},
   "source": [
    "**Link to download shape_predictor_68_face_landmarks.dat**\n",
    "https://github.com/italojs/facial-landmarks-recognition/blob/master/shape_predictor_68_face_landmarks.dat"
   ]
  },
  {
   "cell_type": "markdown",
   "id": "9de27712-7df1-4a58-86de-79b9913b73f6",
   "metadata": {},
   "source": [
    "**Link to download dlib whl for Python Version 3.11**\n",
    "https://github.com/Murtaza-Saeed/dlib/blob/master/dlib-19.24.1-cp311-cp311-win_amd64.whl"
   ]
  },
  {
   "cell_type": "markdown",
   "id": "3f8f2df1-bfff-4ead-b2ee-fff5e452e93a",
   "metadata": {},
   "source": [
    "# Detection Code"
   ]
  },
  {
   "cell_type": "code",
   "execution_count": 2,
   "id": "12da82b4-4a53-421f-8b01-1ebacba5d72d",
   "metadata": {},
   "outputs": [],
   "source": [
    "import cv2\n",
    "import dlib\n",
    "from scipy.spatial import distance as dist"
   ]
  },
  {
   "cell_type": "markdown",
   "id": "1bb4ee24-f732-4fea-b384-fef78cf15146",
   "metadata": {},
   "source": [
    "***Function to calculate the eye aspect ratio (EAR)***"
   ]
  },
  {
   "cell_type": "code",
   "execution_count": 3,
   "id": "5359df2c-0128-4ee6-9abf-79b9ec455ffe",
   "metadata": {},
   "outputs": [],
   "source": [
    "def eye_aspect_ratio(eye):\n",
    "    # Euclidean distances between the vertical eye landmarks\n",
    "    A = dist.euclidean(eye[1], eye[5])\n",
    "    B = dist.euclidean(eye[2], eye[4])\n",
    "\n",
    "    # Euclidean distance between the horizontal eye landmarks\n",
    "    C = dist.euclidean(eye[0], eye[3])\n",
    "\n",
    "    # eye aspect ratio\n",
    "    ear = (A + B) / (2.0 * C)\n",
    "    return ear"
   ]
  },
  {
   "cell_type": "code",
   "execution_count": 4,
   "id": "db6132a9-5374-41e9-be57-72e53933c695",
   "metadata": {},
   "outputs": [],
   "source": [
    "predictor_path = \"shape_predictor_68_face_landmarks.dat\"\n",
    "detector = dlib.get_frontal_face_detector()\n",
    "predictor = dlib.shape_predictor(predictor_path)"
   ]
  },
  {
   "cell_type": "markdown",
   "id": "ad3c063c-2e8f-4983-94e4-0c2a5dd82008",
   "metadata": {},
   "source": [
    "*Defining Constants for eye landmarks & Constants for drowsiness detection*"
   ]
  },
  {
   "cell_type": "code",
   "execution_count": 5,
   "id": "0a20e0cf-0b00-428f-8bb3-d90ad39c97cd",
   "metadata": {},
   "outputs": [],
   "source": [
    "LEFT_EYE_POINTS = list(range(36, 42))\n",
    "RIGHT_EYE_POINTS = list(range(42, 48))\n",
    "\n",
    "EAR_THRESHOLD = 0.25 \n",
    "CONSEC_FRAMES = 20"
   ]
  },
  {
   "cell_type": "code",
   "execution_count": 6,
   "id": "bdf4aef8-97c3-4059-97cb-f96c420a70e7",
   "metadata": {},
   "outputs": [],
   "source": [
    "frame_counter = 0\n",
    "drowsy_frames = 0\n",
    "\n",
    "# Open the webcam\n",
    "cap = cv2.VideoCapture(0)"
   ]
  },
  {
   "cell_type": "code",
   "execution_count": 7,
   "id": "d3b1efe9-532c-4a96-81ae-73a43490a589",
   "metadata": {},
   "outputs": [],
   "source": [
    "while True:\n",
    "    ret, frame = cap.read()\n",
    "    if not ret:\n",
    "        break\n",
    "\n",
    "    # Convert the frame to grayscale\n",
    "    gray = cv2.cvtColor(frame, cv2.COLOR_BGR2GRAY)\n",
    "\n",
    "    # Detect faces in the grayscale frame\n",
    "    faces = detector(gray)\n",
    "\n",
    "    for face in faces:\n",
    "        # Get facial landmarks\n",
    "        shape = predictor(gray, face)\n",
    "        shape = [(shape.part(i).x, shape.part(i).y) for i in range(68)]\n",
    "\n",
    "        # Extract eye landmarks\n",
    "        left_eye = shape[36:42]  \n",
    "        right_eye = shape[42:48] \n",
    "\n",
    "        # Calculate eye aspect ratio for each eye\n",
    "        left_ear = eye_aspect_ratio(left_eye)\n",
    "        right_ear = eye_aspect_ratio(right_eye)\n",
    "\n",
    "        # Average eye aspect ratio\n",
    "        avg_ear = (left_ear + right_ear) / 2.0\n",
    "\n",
    "        # Draw the facial landmarks on the frame\n",
    "        for (x, y) in shape:\n",
    "            cv2.circle(frame, (x, y), 1, (0, 0, 255), -1)\n",
    "\n",
    "        # Drowsiness detection\n",
    "        if avg_ear < EAR_THRESHOLD:\n",
    "            drowsy_frames += 1\n",
    "            if drowsy_frames >= CONSEC_FRAMES:\n",
    "                cv2.putText(frame, \"Drowsiness Detected\", (10, 30), cv2.FONT_HERSHEY_SIMPLEX, 0.7, (0, 0, 255), 2)\n",
    "        else:\n",
    "            drowsy_frames = 0\n",
    "\n",
    "        # Display the eye aspect ratio on the frame\n",
    "        cv2.putText(frame, f\"EAR: {avg_ear:.2f}\", (300, 30), cv2.FONT_HERSHEY_SIMPLEX, 0.7, (255, 255, 255), 2)\n",
    "\n",
    "    # Display the frame\n",
    "    cv2.imshow(\"Drowsiness Detection\", frame)\n",
    "\n",
    "    # Break the loop if 'q' key is pressed\n",
    "    if cv2.waitKey(1) & 0xFF == ord('q'):\n",
    "        break\n",
    "\n",
    "# Release the video capture object and close all windows\n",
    "cap.release()\n",
    "cv2.destroyAllWindows()"
   ]
  },
  {
   "cell_type": "code",
   "execution_count": null,
   "id": "fce82360-120d-416e-9739-4e09cab128ad",
   "metadata": {},
   "outputs": [],
   "source": []
  }
 ],
 "metadata": {
  "kernelspec": {
   "display_name": "Python 3 (ipykernel)",
   "language": "python",
   "name": "python3"
  },
  "language_info": {
   "codemirror_mode": {
    "name": "ipython",
    "version": 3
   },
   "file_extension": ".py",
   "mimetype": "text/x-python",
   "name": "python",
   "nbconvert_exporter": "python",
   "pygments_lexer": "ipython3",
   "version": "3.11.3"
  }
 },
 "nbformat": 4,
 "nbformat_minor": 5
}
