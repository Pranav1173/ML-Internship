{
 "cells": [
  {
   "cell_type": "code",
   "execution_count": 1,
   "id": "30fd3e43-929f-4f08-82b8-2e5b8a9bfed6",
   "metadata": {},
   "outputs": [],
   "source": [
    "import os\n",
    "import shutil\n",
    "from sklearn.model_selection import train_test_split"
   ]
  },
  {
   "cell_type": "code",
   "execution_count": null,
   "id": "76506f01-b2e7-4c2f-a754-eac75a85f13e",
   "metadata": {},
   "outputs": [],
   "source": [
    "# Set the path to your dataset folder\n",
    "dataset_path = 'Data Set'\n",
    "\n",
    "# Set the path for the train and test folders\n",
    "train_path = 'Train'\n",
    "test_path = 'Test'"
   ]
  },
  {
   "cell_type": "code",
   "execution_count": null,
   "id": "f52b9718-a386-425e-bcf3-ffea05e8ae52",
   "metadata": {},
   "outputs": [],
   "source": [
    "# Create train and test folders if they don't exist\n",
    "os.makedirs(train_path, exist_ok=True)\n",
    "os.makedirs(test_path, exist_ok=True)\n",
    "\n",
    "# List all class folders in the dataset\n",
    "class_folders = os.listdir(dataset_path)\n",
    "\n",
    "# Iterate through each class folder\n",
    "for class_folder in class_folders:\n",
    "    class_path = os.path.join(dataset_path, class_folder)\n",
    "    \n",
    "    # List all files in the class folder\n",
    "    files = os.listdir(class_path)\n",
    "    \n",
    "    # Split files into train and test sets\n",
    "    train_files, test_files = train_test_split(files, test_size=0.25, random_state=42)\n",
    "    \n",
    "    # Create class folders in the train and test paths\n",
    "    train_class_path = os.path.join(train_path, class_folder)\n",
    "    test_class_path = os.path.join(test_path, class_folder)\n",
    "    \n",
    "    os.makedirs(train_class_path, exist_ok=True)\n",
    "    os.makedirs(test_class_path, exist_ok=True)\n",
    "    \n",
    "    # Move files to the respective train and test class folders\n",
    "    for file in train_files:\n",
    "        shutil.move(os.path.join(class_path, file), os.path.join(train_class_path, file))\n",
    "    \n",
    "    for file in test_files:\n",
    "        shutil.move(os.path.join(class_path, file), os.path.join(test_class_path, file))\n"
   ]
  }
 ],
 "metadata": {
  "kernelspec": {
   "display_name": "Python 3 (ipykernel)",
   "language": "python",
   "name": "python3"
  },
  "language_info": {
   "codemirror_mode": {
    "name": "ipython",
    "version": 3
   },
   "file_extension": ".py",
   "mimetype": "text/x-python",
   "name": "python",
   "nbconvert_exporter": "python",
   "pygments_lexer": "ipython3",
   "version": "3.11.3"
  }
 },
 "nbformat": 4,
 "nbformat_minor": 5
}
