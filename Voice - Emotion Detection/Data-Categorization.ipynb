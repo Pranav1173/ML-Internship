{
 "cells": [
  {
   "cell_type": "markdown",
   "id": "ff89f02e-5462-40a2-a68a-6b61a1f4e900",
   "metadata": {},
   "source": [
    "# Downloading Data set and Segregation"
   ]
  },
  {
   "cell_type": "markdown",
   "id": "bae3babc-6fcf-42c3-b844-8ba3d6c4037f",
   "metadata": {},
   "source": [
    "*Download the dataset from the link :*"
   ]
  },
  {
   "cell_type": "markdown",
   "id": "3cf8374c-b2b2-4a97-b906-68087ff63731",
   "metadata": {},
   "source": [
    "**https://www.kaggle.com/datasets/uwrfkaggler/ravdess-emotional-speech-audio**"
   ]
  },
  {
   "cell_type": "code",
   "execution_count": 2,
   "id": "f724eaeb-e5d7-4b76-9ece-ca93a3b42823",
   "metadata": {},
   "outputs": [],
   "source": [
    "import os\n",
    "import shutil"
   ]
  },
  {
   "cell_type": "code",
   "execution_count": 3,
   "id": "a4c2249b-84d6-4507-9abd-824e4db50325",
   "metadata": {},
   "outputs": [],
   "source": [
    "# Create folders for each emotion\n",
    "emotions = ['neutral', 'calm', 'happy', 'sad', 'angry', 'fearful', 'disgust', 'surprised']\n",
    "for emotion in emotions:\n",
    "    os.makedirs(emotion, exist_ok=True)\n",
    "\n",
    "# Define the mapping of emotion codes to folder names\n",
    "emotion_mapping = {\n",
    "    '01': 'neutral',\n",
    "    '02': 'calm',\n",
    "    '03': 'happy',\n",
    "    '04': 'sad',\n",
    "    '05': 'angry',\n",
    "    '06': 'fearful',\n",
    "    '07': 'disgust',\n",
    "    '08': 'surprised'\n",
    "}"
   ]
  },
  {
   "cell_type": "code",
   "execution_count": 4,
   "id": "7bdb87a1-4983-4304-b26c-3c3b75173088",
   "metadata": {},
   "outputs": [],
   "source": [
    "# Function to process files in a directory\n",
    "def process_files(directory):\n",
    "    for file in os.listdir(directory):\n",
    "        if file.endswith(\".wav\"):  # Assuming the files are in WAV format, adjust if needed\n",
    "            parts = file.split('-')\n",
    "            \n",
    "            # Check if there are enough parts to access the third number\n",
    "            if len(parts) >= 3:\n",
    "                emotion_code = parts[2]\n",
    "                \n",
    "                if emotion_code in emotion_mapping:\n",
    "                    emotion_folder = emotion_mapping[emotion_code]\n",
    "                    shutil.move(os.path.join(directory, file), os.path.join(emotion_folder, file))\n",
    "            else:\n",
    "                print(f\"Skipping file {file} in directory {directory} due to unexpected format.\")\n",
    "\n",
    "# Iterate through actor folders and process files in each folder\n",
    "actor_folders = [f for f in os.listdir() if f.startswith('Actor_') and os.path.isdir(f)]\n",
    "for actor_folder in actor_folders:\n",
    "    process_files(actor_folder)"
   ]
  },
  {
   "cell_type": "code",
   "execution_count": null,
   "id": "7e74cc68-bcd4-4c02-acf3-c5ae1513c167",
   "metadata": {},
   "outputs": [],
   "source": []
  }
 ],
 "metadata": {
  "kernelspec": {
   "display_name": "Python 3 (ipykernel)",
   "language": "python",
   "name": "python3"
  },
  "language_info": {
   "codemirror_mode": {
    "name": "ipython",
    "version": 3
   },
   "file_extension": ".py",
   "mimetype": "text/x-python",
   "name": "python",
   "nbconvert_exporter": "python",
   "pygments_lexer": "ipython3",
   "version": "3.11.3"
  }
 },
 "nbformat": 4,
 "nbformat_minor": 5
}
