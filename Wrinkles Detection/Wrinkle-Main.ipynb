{
 "cells": [
  {
   "cell_type": "markdown",
   "id": "b143bf46-faca-494a-af4e-249390b98792",
   "metadata": {},
   "source": [
    "***Importing Dependencies***"
   ]
  },
  {
   "cell_type": "code",
   "execution_count": 1,
   "id": "9e459481-0d5c-47c2-84bf-cb963020b014",
   "metadata": {},
   "outputs": [],
   "source": [
    "import dlib\n",
    "import cv2"
   ]
  },
  {
   "cell_type": "markdown",
   "id": "7504f942-b057-4165-9d75-0640020b69b9",
   "metadata": {},
   "source": [
    "***Function to detect wrinkles based on facial landmarks***"
   ]
  },
  {
   "cell_type": "code",
   "execution_count": 2,
   "id": "1fc0f74c-d55f-42f0-99ab-1c6e513b6f3d",
   "metadata": {},
   "outputs": [],
   "source": [
    "# face detector model from dlib\n",
    "detector = dlib.get_frontal_face_detector()\n",
    "predictor = dlib.shape_predictor(\"shape_predictor_68_face_landmarks.dat\")\n",
    "\n",
    "\n",
    "def detect_wrinkles(image_path):\n",
    "    image = cv2.imread(image_path)\n",
    "    gray = cv2.cvtColor(image, cv2.COLOR_BGR2GRAY)\n",
    "\n",
    "    faces = detector(gray)\n",
    "    \n",
    "    for face in faces:\n",
    "        landmarks = predictor(gray, face)\n",
    "\n",
    "        # Extract facial landmarks for the eyes and forehead\n",
    "        left_eye_outer = (landmarks.part(36).x, landmarks.part(36).y)\n",
    "        right_eye_outer = (landmarks.part(45).x, landmarks.part(45).y)\n",
    "        left_eye_inner = (landmarks.part(39).x, landmarks.part(39).y)\n",
    "        right_eye_inner = (landmarks.part(42).x, landmarks.part(42).y)\n",
    "        forehead_top = (landmarks.part(37).x, landmarks.part(19).y)\n",
    "        forehead_bottom = (landmarks.part(28).x, landmarks.part(28).y)\n",
    "\n",
    "        # Calculate distances between specific facial landmarks\n",
    "        distance_outer = cv2.norm(left_eye_outer, right_eye_outer)\n",
    "        distance_inner = cv2.norm(left_eye_inner, right_eye_inner)\n",
    "        distance_forehead = cv2.norm(forehead_top, forehead_bottom)\n",
    "\n",
    "        # ratio of outer to inner eye distances and eye to forehead distance\n",
    "        wrinkle_ratio = (distance_outer / distance_inner) / (distance_forehead / distance_inner)\n",
    "        wrinkle_threshold = 1.639\n",
    "        print(wrinkle_ratio)\n",
    "\n",
    "        # Result based on the threshold\n",
    "        if wrinkle_ratio > wrinkle_threshold:\n",
    "            print(\"Wrinkles detected!\")\n",
    "        else:\n",
    "            print(\"No wrinkles detected.\")\n"
   ]
  },
  {
   "cell_type": "code",
   "execution_count": null,
   "id": "7579d416-e252-4853-a4c5-700749019913",
   "metadata": {},
   "outputs": [],
   "source": [
    "image_path = \"Wrinkles/wrink.jpg\"\n",
    "detect_wrinkles(image_path)"
   ]
  }
 ],
 "metadata": {
  "kernelspec": {
   "display_name": "Python 3 (ipykernel)",
   "language": "python",
   "name": "python3"
  },
  "language_info": {
   "codemirror_mode": {
    "name": "ipython",
    "version": 3
   },
   "file_extension": ".py",
   "mimetype": "text/x-python",
   "name": "python",
   "nbconvert_exporter": "python",
   "pygments_lexer": "ipython3",
   "version": "3.11.3"
  }
 },
 "nbformat": 4,
 "nbformat_minor": 5
}
