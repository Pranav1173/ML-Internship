{
 "cells": [
  {
   "cell_type": "markdown",
   "id": "d0ee057f-0074-4f8f-9ff3-810deb6ac7a4",
   "metadata": {},
   "source": [
    "# Downloading the dlib and opencv dependency"
   ]
  },
  {
   "cell_type": "markdown",
   "id": "648d417c-f4c3-4fc2-82e7-d3a5ccc2bf62",
   "metadata": {
    "jp-MarkdownHeadingCollapsed": true
   },
   "source": [
    "**Download the required Dependencies**\n",
    "\n",
    "!pip install opencv-python\n",
    "\n",
    "!pip install cmake \n",
    " ***for configuration purposes***\n",
    "\n",
    "%%cmd\n",
    "\n",
    "pip install dlib-19.24.1-cp311-cp311-win_amd64.whl"
   ]
  },
  {
   "cell_type": "markdown",
   "id": "360808d3-6876-4e36-88a1-f2f8f0aa3df8",
   "metadata": {},
   "source": [
    "**Link to download shape_predictor_68_face_landmarks.dat**\n",
    "https://github.com/italojs/facial-landmarks-recognition/blob/master/shape_predictor_68_face_landmarks.dat"
   ]
  },
  {
   "cell_type": "markdown",
   "id": "6e102e38-f928-4145-92ce-1436413ac46e",
   "metadata": {},
   "source": [
    "**Link to download dlib whl for Python Version 3.11**\n",
    "https://github.com/Murtaza-Saeed/dlib/blob/master/dlib-19.24.1-cp311-cp311-win_amd64.whl"
   ]
  },
  {
   "cell_type": "markdown",
   "id": "261ae8e6-b516-406b-a5cd-3f90a9561e6d",
   "metadata": {},
   "source": [
    "# Detection Code"
   ]
  },
  {
   "cell_type": "markdown",
   "id": "57002a83-312f-430c-a0a4-3885452f906a",
   "metadata": {},
   "source": [
    "***Importing the Dependencies***"
   ]
  },
  {
   "cell_type": "code",
   "execution_count": 1,
   "id": "823bfa90-7222-432f-916c-00cbe6ec5542",
   "metadata": {},
   "outputs": [],
   "source": [
    "# Importing Required Dependencies\n",
    "import cv2\n",
    "import dlib"
   ]
  },
  {
   "cell_type": "markdown",
   "id": "fef0bc44-5acb-462b-bb74-fccef45fd967",
   "metadata": {},
   "source": [
    "***Defining the Function to check if Mouth is open or not***"
   ]
  },
  {
   "cell_type": "code",
   "execution_count": 8,
   "id": "e92ef0d5-d19c-4f65-b3ba-180255f61dee",
   "metadata": {},
   "outputs": [],
   "source": [
    "def is_mouth_open(image_path):\n",
    "    # Load the pre-trained facial landmark detector\n",
    "    detector = dlib.get_frontal_face_detector()\n",
    "    predictor = dlib.shape_predictor(\"shape_predictor_68_face_landmarks.dat\")\n",
    "\n",
    "    # Read the image\n",
    "    image = cv2.imread(image_path)\n",
    "    gray = cv2.cvtColor(image, cv2.COLOR_BGR2GRAY)\n",
    "\n",
    "    # Detect faces in the image\n",
    "    faces = detector(gray)\n",
    "\n",
    "    for face in faces:\n",
    "        # Detect facial landmarks\n",
    "        landmarks = predictor(gray, face)\n",
    "\n",
    "        # Extract the coordinates of the mouth\n",
    "        mouth_top = (landmarks.part(51).x, landmarks.part(51).y)  # top point of the mouth\n",
    "        mouth_bottom = (landmarks.part(57).x, landmarks.part(57).y)  # bottom point of the mouth\n",
    "\n",
    "        # Draw circles around the mouth\n",
    "        cv2.circle(image, mouth_top, 5, (0, 255, 0), -1)\n",
    "        cv2.circle(image, mouth_bottom, 5, (0, 255, 0), -1)\n",
    "\n",
    "        # Calculate the mouth aspect ratio (MAR)\n",
    "        mar = (cv2.norm((mouth_top[0] - landmarks.part(66).x, mouth_top[1] - landmarks.part(66).y), cv2.NORM_L2) +\n",
    "           cv2.norm((mouth_bottom[0] - landmarks.part(62).x, mouth_bottom[1] - landmarks.part(62).y), cv2.NORM_L2)) / 2\n",
    "\n",
    "\n",
    "        # threshold for open mouth\n",
    "        mouth_open_threshold = 20\n",
    "\n",
    "        # Check if the mouth is open\n",
    "        if mar > mouth_open_threshold:\n",
    "            return True\n",
    "        else:\n",
    "            return False\n",
    "\n",
    "    return False\n"
   ]
  },
  {
   "cell_type": "markdown",
   "id": "61ed1863-ce91-413c-8cf6-7efef938382d",
   "metadata": {},
   "source": [
    "***Determining the Results***"
   ]
  },
  {
   "cell_type": "code",
   "execution_count": 15,
   "id": "e5c83d28-1fdb-4d94-a46d-52245d1e335c",
   "metadata": {},
   "outputs": [
    {
     "name": "stdout",
     "output_type": "stream",
     "text": [
      "Mouth is closed!\n"
     ]
    }
   ],
   "source": [
    "# Taking path input to determine the result\n",
    "image_path = \"Close\\close3.jpg\"\n",
    "result = is_mouth_open(image_path)\n",
    "\n",
    "if result:\n",
    "    print(\"Mouth is open!\")\n",
    "else:\n",
    "    print(\"Mouth is closed!\")"
   ]
  }
 ],
 "metadata": {
  "kernelspec": {
   "display_name": "Python 3 (ipykernel)",
   "language": "python",
   "name": "python3"
  },
  "language_info": {
   "codemirror_mode": {
    "name": "ipython",
    "version": 3
   },
   "file_extension": ".py",
   "mimetype": "text/x-python",
   "name": "python",
   "nbconvert_exporter": "python",
   "pygments_lexer": "ipython3",
   "version": "3.11.3"
  }
 },
 "nbformat": 4,
 "nbformat_minor": 5
}
